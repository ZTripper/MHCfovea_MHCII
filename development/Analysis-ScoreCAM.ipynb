{
 "cells": [
  {
   "cell_type": "code",
   "execution_count": null,
   "metadata": {},
   "outputs": [],
   "source": [
    "import os, sys, re, json, random, importlib\n",
    "import numpy as np\n",
    "import pandas as pd\n",
    "from collections import OrderedDict\n",
    "from tqdm import tqdm\n",
    "import torch\n",
    "import matplotlib\n",
    "import matplotlib.pyplot as plt\n",
    "import seaborn as sns\n",
    "import logomaker as lm\n",
    "from scipy.cluster import hierarchy\n",
    "from util import *\n",
    "from CAMInterp import CAMInterp\n",
    "import warnings\n",
    "warnings.filterwarnings('ignore')\n",
    "\n",
    "cam_result_dir = ''\n",
    "train_predict_dir = ''\n",
    "dataframe_dir = ''\n",
    "output_dir = ''\n",
    "if not os.path.isdir(output_dir):\n",
    "    os.mkdir(output_dir)"
   ]
  },
  {
   "cell_type": "markdown",
   "metadata": {},
   "source": [
    "# CAM analysis\n",
    "Fig. 3"
   ]
  },
  {
   "cell_type": "code",
   "execution_count": null,
   "metadata": {},
   "outputs": [],
   "source": [
    "# arguments\n",
    "mhc_seq_filename = '../data/MHCI_res182_seq.json'\n",
    "allele_mask_dirname = ['{}/decoy_{}/mhc_2/ScoreCAM/'.format(cam_result_dir, i) for i in range(1, 87, 5)]\n",
    "epitope_mask_dirname = ['{}/decoy_{}/epitope_0/ScoreCAM'.format(cam_result_dir, i) for i in range(1, 87, 5)]\n",
    "df_filename = '{}/prediction.csv'.format(train_predict_dir)\n",
    "\n",
    "pred_basename = 'score'\n",
    "pred_threshold = 0.9"
   ]
  },
  {
   "cell_type": "code",
   "execution_count": null,
   "metadata": {},
   "outputs": [],
   "source": [
    "# interpretation class\n",
    "interp = CAMInterp(mhc_seq_filename, allele_mask_dirname, epitope_mask_dirname, df_filename, output_dir,\n",
    "                   pred_basename=pred_basename, pred_threshold=pred_threshold)"
   ]
  },
  {
   "cell_type": "code",
   "execution_count": null,
   "metadata": {
    "scrolled": false
   },
   "outputs": [],
   "source": [
    "# Residue analysis\n",
    "cam_threshold = 0.4\n",
    "importance_threshold = 0.4\n",
    "barplot_figsize = (8, 2.1)\n",
    "square_figsize = (3.5, 3.5)\n",
    "interp.ResidueAnalysis(cam_threshold, importance_threshold,\n",
    "                       barplot_figsize=barplot_figsize, square_figsize=square_figsize)"
   ]
  },
  {
   "cell_type": "code",
   "execution_count": null,
   "metadata": {
    "scrolled": false
   },
   "outputs": [],
   "source": [
    "# Cluster analysis\n",
    "method = 'average'\n",
    "metric = 'euclidean'\n",
    "allele_figsize= (10, 2)\n",
    "epitope_figsize= (3.5, 3.5)\n",
    "interp.ClusterAnalysis(method, metric,\n",
    "                       allele_figsize=allele_figsize, epitope_figsize=epitope_figsize)"
   ]
  },
  {
   "cell_type": "markdown",
   "metadata": {},
   "source": [
    "# Pairwise distance\n",
    "Supplementary Fig. 5"
   ]
  },
  {
   "cell_type": "code",
   "execution_count": null,
   "metadata": {},
   "outputs": [],
   "source": [
    "def _motif_plot(alleles, motif_dict, dpi=600, figfile=None):\n",
    "    aa_str = 'ACDEFGHIKLMNPQRSTVWY'\n",
    "    allele_num = len(alleles)\n",
    "    fig, ax = plt.subplots(allele_num, figsize=(0.8, allele_num*0.2), dpi=dpi)\n",
    "    for i in range(allele_num):\n",
    "        allele = alleles[i]\n",
    "        seqlogo_df = pd.DataFrame(motif_dict[allele], columns=list(aa_str))\n",
    "        logo = lm.Logo(seqlogo_df, ax=ax[i], color_scheme=\"skylign_protein\")\n",
    "        _ = ax[i].set_xticks([])\n",
    "        _ = ax[i].set_yticks([])\n",
    "        for side in ['top','bottom','left','right']:\n",
    "            ax[i].spines[side].set_linewidth(0.1)\n",
    "\n",
    "    fig.tight_layout()\n",
    "    if figfile:\n",
    "        fig.savefig(figfile)"
   ]
  },
  {
   "cell_type": "code",
   "execution_count": null,
   "metadata": {},
   "outputs": [],
   "source": [
    "df = pd.read_csv('%s/train_hit.csv'%dataframe_dir, index_col=0)\n",
    "min_sample_num = 100\n",
    "submotif_len = 4\n",
    "aa_str = 'ACDEFGHIKLMNPQRSTVWY'\n",
    "dpi = 600\n",
    "\n",
    "alleles = df['mhc'].unique()\n",
    "motif_dict = dict()\n",
    "\n",
    "for allele in alleles:\n",
    "    seqs = df.loc[(df['mhc']==allele) & (df['bind']==1), 'sequence']\n",
    "    if len(seqs) >= min_sample_num:\n",
    "        seqs = seqs.apply(lambda x: x[:submotif_len] + x[-submotif_len:])\n",
    "        temp_df = pd.DataFrame(columns=list(aa_str))\n",
    "        seqlogo_df = lm.alignment_to_matrix(sequences=seqs, to_type=\"information\", characters_to_ignore=\"XU\")\n",
    "        temp_df = pd.concat([temp_df, seqlogo_df], axis=0)\n",
    "        temp_df = temp_df.fillna(0.0)\n",
    "        motif_dict[allele] = temp_df.to_numpy()"
   ]
  },
  {
   "cell_type": "code",
   "execution_count": null,
   "metadata": {},
   "outputs": [],
   "source": [
    "# motif pairwise distance\n",
    "from scipy.spatial.distance import pdist, squareform\n",
    "\n",
    "threshold = 0\n",
    "\n",
    "motif_df = pd.DataFrame()\n",
    "for k, v in motif_dict.items():\n",
    "    arr = v.copy()\n",
    "    arr[arr < threshold] = 0\n",
    "    motif_df[k] = arr.flatten()\n",
    "\n",
    "motif_df = motif_df.loc[(motif_df!=0).any(axis=1), :]\n",
    "motif_dist = pdist(motif_df.T, metric='cosine')\n",
    "motif_dist = squareform(motif_dist)\n",
    "motif_dist_df = pd.DataFrame(motif_dist, columns=motif_df.columns, index=motif_df.columns)"
   ]
  },
  {
   "cell_type": "code",
   "execution_count": null,
   "metadata": {
    "scrolled": true
   },
   "outputs": [],
   "source": [
    "for hla in ['A', 'B', 'C']:\n",
    "    select_col = [i for i in motif_dist_df.columns if hla in i]\n",
    "    temp_df = motif_dist_df.loc[select_col, select_col]\n",
    "    g = sns.clustermap(temp_df,\n",
    "                       method='average',\n",
    "                       metric='cosine',\n",
    "                       cbar_pos=(.3, -.05, .4, .02),\n",
    "                       cbar_kws={'orientation': 'horizontal', 'label': 'pairwise distance'},\n",
    "                       xticklabels=False,\n",
    "                       yticklabels=True,\n",
    "                       dendrogram_ratio=0.1,\n",
    "                       figsize=(5, 5))\n",
    "    _ = g.ax_heatmap.set_yticklabels(g.ax_heatmap.get_ymajorticklabels(), fontsize = 5)\n",
    "    _ = g.ax_heatmap.set_xlabel('HLA-{} allele'.format(hla))\n",
    "    plt.savefig('%s/Pdist_%s'%(output_dir, hla), bbox_inches='tight', dpi=dpi)\n",
    "    allele_order = g.dendrogram_row.reordered_ind\n",
    "    allele_order = [temp_df.columns[i] for i in allele_order]\n",
    "    _motif_plot(allele_order, motif_dict, figfile='%s/PdistMotif_%s'%(output_dir, hla))"
   ]
  }
 ],
 "metadata": {
  "kernelspec": {
   "display_name": "Python 3",
   "language": "python",
   "name": "python3"
  },
  "language_info": {
   "codemirror_mode": {
    "name": "ipython",
    "version": 3
   },
   "file_extension": ".py",
   "mimetype": "text/x-python",
   "name": "python",
   "nbconvert_exporter": "python",
   "pygments_lexer": "ipython3",
   "version": "3.6.9"
  }
 },
 "nbformat": 4,
 "nbformat_minor": 4
}
