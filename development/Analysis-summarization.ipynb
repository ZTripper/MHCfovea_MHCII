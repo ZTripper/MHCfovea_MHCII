{
 "cells": [
  {
   "cell_type": "code",
   "execution_count": null,
   "metadata": {},
   "outputs": [],
   "source": [
    "import os, sys, re, json, random, pickle, copy\n",
    "import numpy as np\n",
    "import pandas as pd\n",
    "from collections import OrderedDict\n",
    "import matplotlib.pyplot as plt\n",
    "import seaborn as sns\n",
    "import logomaker as lm\n",
    "from MHCInterp import MHCInterp\n",
    "import warnings\n",
    "warnings.filterwarnings('ignore')\n",
    "\n",
    "allele_expansion_dir = ''\n",
    "cam_analysis_dir = '' # result from Analysis-ScoreCAM.ipynb\n",
    "output_dir = ''\n",
    "if not os.path.isdir(output_dir):\n",
    "    os.mkdir(output_dir)"
   ]
  },
  {
   "cell_type": "markdown",
   "metadata": {},
   "source": [
    "## Loading Data"
   ]
  },
  {
   "cell_type": "code",
   "execution_count": null,
   "metadata": {},
   "outputs": [],
   "source": [
    "mhc_seq_dict = json.load(open('../data/MHCI_res182_seq.json', 'r'))\n",
    "\n",
    "mhc_motif_dict = dict()\n",
    "\n",
    "for sub_dir in os.listdir(allele_expansion_dir):\n",
    "    d = np.load('{}/{}/motif.npy'.format(allele_expansion_dir, sub_dir), allow_pickle=True)[()]\n",
    "    mhc_motif_dict = {**mhc_motif_dict, **d}\n",
    "\n",
    "submotif_len = 4\n",
    "\n",
    "position_dict = json.load(open('%s/ResidueSelection.json'%cam_analysis_dir, 'r'))"
   ]
  },
  {
   "cell_type": "markdown",
   "metadata": {},
   "source": [
    "## Clustering\n",
    "Fig. 4 and Supplementary Fig. 6-7"
   ]
  },
  {
   "cell_type": "markdown",
   "metadata": {},
   "source": [
    "### Pre-pdist + Agglomerative Clustering"
   ]
  },
  {
   "cell_type": "code",
   "execution_count": null,
   "metadata": {},
   "outputs": [],
   "source": [
    "interp = MHCInterp(mhc_seq_dict, mhc_motif_dict, submotif_len, position_dict, output_dir)"
   ]
  },
  {
   "cell_type": "code",
   "execution_count": null,
   "metadata": {},
   "outputs": [],
   "source": [
    "noise_threshold = 0\n",
    "\n",
    "clustering_method = 'Agglomerative'\n",
    "clustering_kwargs = {'Agglomerative_affinity': 'cosine',\n",
    "                     'Agglomerative_linkage': 'complete',\n",
    "                     'Agglomerative_distance_threshold': None,\n",
    "                     'Agglomerative_n_clusters': None}\n",
    "\n",
    "reduction_method = None\n",
    "reduction_kwargs = {}\n",
    "\n",
    "pre_pdist = True\n",
    "metric = 'cosine'\n",
    "method = 'complete'\n",
    "\n",
    "highlight=False\n",
    "load_file = False\n",
    "turn_off_label = False"
   ]
  },
  {
   "cell_type": "code",
   "execution_count": null,
   "metadata": {},
   "outputs": [],
   "source": [
    "# [hla, terminus, cluster number]\n",
    "args = [['A','N',8],\n",
    "        ['A','C',8],\n",
    "        ['B','N',8],\n",
    "        ['B','C',5],\n",
    "        ['C','N',6],\n",
    "        ['C','C',2]]\n",
    "\n",
    "# interpretation dict\n",
    "interp_dict = dict()\n",
    "interp_dict['seq'] = copy.deepcopy(mhc_seq_dict)\n",
    "interp_dict['motif'] = copy.deepcopy(mhc_motif_dict)\n",
    "interp_dict['important_positions'] = position_dict['selected']\n",
    "interp_dict['cluster'] = dict()\n",
    "interp_dict['hyper_motif'] = dict()\n",
    "interp_dict['allele_signature'] = dict()\n",
    "\n",
    "for hla, side, n_clusters in args:\n",
    "    clustering_kwargs['Agglomerative_n_clusters'] = n_clusters\n",
    "    labels, hyper_motif, allele_signature = interp.Clustering(hla,\n",
    "                                                              side,\n",
    "                                                              noise_threshold,\n",
    "                                                              clustering_method,\n",
    "                                                              clustering_kwargs,\n",
    "                                                              reduction_method=reduction_method,\n",
    "                                                              reduction_kwargs=reduction_kwargs,\n",
    "                                                              pre_pdist=pre_pdist,\n",
    "                                                              metric=metric,\n",
    "                                                              method=method,\n",
    "                                                              highlight=highlight,\n",
    "                                                              load_file=load_file,\n",
    "                                                              turn_off_label=turn_off_label)\n",
    "    \n",
    "    interp_dict['cluster']['%s_%s'%(hla, side)] = labels\n",
    "    interp_dict['hyper_motif']['%s_%s'%(hla, side)] = hyper_motif\n",
    "    interp_dict['allele_signature']['%s_%s'%(hla, side)] = allele_signature\n",
    "    \n",
    "pickle.dump(interp_dict, open('%s/interpretation.pkl'%output_dir, 'wb'))"
   ]
  },
  {
   "cell_type": "markdown",
   "metadata": {},
   "source": [
    "## Grouping Counts"
   ]
  },
  {
   "cell_type": "code",
   "execution_count": null,
   "metadata": {},
   "outputs": [],
   "source": [
    "for hla in ['A', 'B', 'C']:\n",
    "    N_group_df, C_group_df = interp.AlleleGrouping(hla)"
   ]
  },
  {
   "cell_type": "markdown",
   "metadata": {},
   "source": [
    "## Combination of N-terminus and C-terminus\n",
    "Fig. 5 and Supplementary Fig. 8"
   ]
  },
  {
   "cell_type": "code",
   "execution_count": null,
   "metadata": {},
   "outputs": [],
   "source": [
    "hla = 'B'\n",
    "interp_dict = pickle.load(open('%s/interpretation.pkl'%output_dir, 'rb'))"
   ]
  },
  {
   "cell_type": "markdown",
   "metadata": {},
   "source": [
    "### heatmap of training and testing dataset"
   ]
  },
  {
   "cell_type": "code",
   "execution_count": null,
   "metadata": {},
   "outputs": [],
   "source": [
    "def build_heatmap_df(df, N_terminus, C_terminus):\n",
    "    heatmap_df = pd.DataFrame(columns=N_terminus, index=C_terminus)\n",
    "    for n in heatmap_df.columns:\n",
    "        for c in heatmap_df.index:\n",
    "            heatmap_df.loc[c][n] = int(df[(df['N_terminus']==n) & (df['C_terminus']==c)].shape[0])\n",
    "    heatmap_df = heatmap_df.sort_index()\n",
    "    heatmap_df = heatmap_df[sorted(heatmap_df.columns)]\n",
    "    return heatmap_df.astype(float)"
   ]
  },
  {
   "cell_type": "code",
   "execution_count": null,
   "metadata": {},
   "outputs": [],
   "source": [
    "# get alleles from training dataset\n",
    "train_count = pd.read_csv('../data/train_dataset_count.csv', index_col=0)\n",
    "train_alleles = [i for i in train_count.index.to_list() if hla in i]\n",
    "\n",
    "# get alleles from training dataset\n",
    "test_count = pd.read_csv('../data/test_dataset_count.csv', index_col=0)\n",
    "test_alleles = [i for i in test_count.index.to_list() if hla in i]\n",
    "\n",
    "# build label df\n",
    "label_df = pd.DataFrame.from_dict(interp_dict['cluster']['%s_N'%hla], orient='index', columns=['N_terminus'])\n",
    "label_df['C_terminus'] = pd.DataFrame.from_dict(interp_dict['cluster']['%s_C'%hla], orient='index', columns=['C_terminus'])['C_terminus']\n",
    "label_df['group'] = label_df.index.to_series().apply(lambda x: x.split(':')[0])\n",
    "\n",
    "# build heatmap df\n",
    "heatmap_all_df = build_heatmap_df(label_df, label_df['N_terminus'].unique(), label_df['C_terminus'].unique())\n",
    "heatmap_train_df = build_heatmap_df(label_df.loc[train_alleles], label_df['N_terminus'].unique(), label_df['C_terminus'].unique())\n",
    "heatmap_test_df = build_heatmap_df(label_df.loc[test_alleles], label_df['N_terminus'].unique(), label_df['C_terminus'].unique())"
   ]
  },
  {
   "cell_type": "code",
   "execution_count": null,
   "metadata": {},
   "outputs": [],
   "source": [
    "# plot heatmap\n",
    "print(\"heatmap of all alleles\")\n",
    "sns.heatmap(heatmap_all_df, cmap='Blues', linewidths=0.3, cbar=False, annot=True, fmt='g')\n",
    "plt.show()\n",
    "\n",
    "print(\"heatmap of training alleles\")\n",
    "sns.heatmap(heatmap_train_df, cmap='Blues', linewidths=0.3, cbar=False, annot=True, fmt='g')\n",
    "plt.show()\n",
    "\n",
    "print(\"heatmap of testing alleles\")\n",
    "sns.heatmap(heatmap_test_df, cmap='Blues', linewidths=0.3, cbar=False, annot=True, fmt='g')\n",
    "plt.show()"
   ]
  },
  {
   "cell_type": "markdown",
   "metadata": {},
   "source": [
    "### combination dataframe"
   ]
  },
  {
   "cell_type": "code",
   "execution_count": null,
   "metadata": {},
   "outputs": [],
   "source": [
    "select_comb_df = interp.Combining(hla, interp_dict)"
   ]
  },
  {
   "cell_type": "code",
   "execution_count": null,
   "metadata": {},
   "outputs": [],
   "source": [
    "# adjust the annotation of heatmap\n",
    "N_class_num = len(select_comb_df.index.get_level_values(0).unique())\n",
    "C_class_num = len(select_comb_df.index.get_level_values(1).unique())\n",
    "labels = select_comb_df.groups.to_numpy().reshape(N_class_num, C_class_num)\n",
    "\n",
    "if hla == 'B':\n",
    "    labels[0][2] = 'B54  B55  B56\\nB59  B78'\n",
    "    labels[0][3] = 'B07  B08  B35\\nB42  B56  B67\\nB81  B82'\n",
    "    labels[3][0] = 'B15  B57\\nB58  B78'\n",
    "    labels[6][2] = 'B40  B41  B45\\nB49  B50'\n",
    "    labels[6][3] = 'B40  B41\\nB44  B47'\n",
    "if hla == 'C':\n",
    "    labels[2][0] = 'C02  C03\\nC12  C16'\n",
    "    labels[2][1] = 'C03  C15\\nC16  C17'"
   ]
  },
  {
   "cell_type": "code",
   "execution_count": null,
   "metadata": {},
   "outputs": [],
   "source": [
    "# combination heatmap of all alleles\n",
    "if hla == 'A':\n",
    "    n_range = [0, 1, 2, 4, 5, 6, 7]\n",
    "    c_range = [0, 1, 2, 3, 4, 5]\n",
    "elif hla == 'B':\n",
    "    n_range = list(range(7))\n",
    "    c_range = list(range(5))\n",
    "elif hla == 'C':\n",
    "    n_range = list(range(1, 6))\n",
    "    c_range = list(range(2))\n",
    "\n",
    "fig, ax = plt.subplots(1, 1, figsize=((len(n_range)+1.5)*2, len(c_range)+3), dpi=600)\n",
    "sns.set(font_scale=1.3)\n",
    "sns.heatmap(np.log10(heatmap_all_df.loc[c_range, n_range]).replace(-np.inf, 0), cbar=True,\n",
    "            cbar_kws={'orientation': 'vertical', 'pad': 0.01, 'fraction': 0.03, 'label': '$log_{10}$(allele number)'}, \n",
    "            linewidths=0.3, cmap='Blues', annot=labels[n_range][:, c_range].T, fmt='', ax=ax)\n",
    "\n",
    "ax.set_xticklabels([])\n",
    "ax.set_yticklabels([])\n",
    "ax.set_xlabel('N-terminal hyper-motifs of HLA-%s'%hla, labelpad=80, fontsize=20)\n",
    "ax.set_ylabel('C-terminal hyper-motifs of HLA-%s'%hla, labelpad=120, fontsize=20)\n",
    "\n",
    "fig.tight_layout()\n",
    "fig.savefig('%s/%s_CombinationHeatmap.png'%(output_dir, hla))\n",
    "plt.show()"
   ]
  },
  {
   "cell_type": "markdown",
   "metadata": {},
   "source": [
    "### demonstration"
   ]
  },
  {
   "cell_type": "code",
   "execution_count": null,
   "metadata": {},
   "outputs": [],
   "source": [
    "hla = 'B'\n",
    "N_targets = {0: '#ccefff', 6: '#ffe6e6'}\n",
    "C_targets = {2: '#ffffcc', 3: '#ccffdc'}\n",
    "interp.Demo(hla, interp_dict, N_targets, C_targets)"
   ]
  },
  {
   "cell_type": "markdown",
   "metadata": {},
   "source": [
    "## Comparison between HLA sequences\n",
    "Supplementary Fig. 4"
   ]
  },
  {
   "cell_type": "code",
   "execution_count": null,
   "metadata": {},
   "outputs": [],
   "source": [
    "interp_dict = pickle.load(open('%s/interpretation.pkl'%output_dir, 'rb'))\n",
    "\n",
    "train_count = pd.read_csv('../data/train_dataset_count.csv', index_col=0)\n",
    "train_alleles = [i for i in train_count.index.to_list()]\n",
    "\n",
    "genes = ['A', 'B', 'C']\n",
    "positions = {'Prev': list(range(91)), 'Post': list(range(91,182))}\n",
    "\n",
    "for pos_name, pos in positions.items():\n",
    "    background_seqlogo = interp._mhc_seqlogo(train_alleles, pos)\n",
    "    fig, ax = plt.subplots(len(genes), 1, figsize=(10, 2*len(genes)), dpi=600)\n",
    "    for i in range(len(genes)):\n",
    "        gene = genes[i]\n",
    "        alleles = [j for j in train_alleles if gene in j]\n",
    "        if i == len(genes) - 1:\n",
    "            interp._mhcseq_plot(alleles, pos, ax[i], ylim=1, title=None,\n",
    "                                diff_df=background_seqlogo, turn_off_label=False)\n",
    "        else:\n",
    "            interp._mhcseq_plot(alleles, pos, ax[i], ylim=1, title=None,\n",
    "                                diff_df=background_seqlogo, turn_off_label=True)\n",
    "    \n",
    "    fig.tight_layout()\n",
    "    fig.savefig('{}/HLASeqlogo{}.png'.format(output_dir, pos_name))"
   ]
  }
 ],
 "metadata": {
  "kernelspec": {
   "display_name": "Python 3",
   "language": "python",
   "name": "python3"
  },
  "language_info": {
   "codemirror_mode": {
    "name": "ipython",
    "version": 3
   },
   "file_extension": ".py",
   "mimetype": "text/x-python",
   "name": "python",
   "nbconvert_exporter": "python",
   "pygments_lexer": "ipython3",
   "version": "3.6.9"
  }
 },
 "nbformat": 4,
 "nbformat_minor": 4
}
