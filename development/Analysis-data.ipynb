{
 "cells": [
  {
   "cell_type": "code",
   "execution_count": null,
   "metadata": {},
   "outputs": [],
   "source": [
    "import os, sys, random, json\n",
    "import pandas as pd\n",
    "import numpy as np\n",
    "import matplotlib.pyplot as plt\n",
    "import seaborn as sns\n",
    "import logomaker as lm\n",
    "from collections import OrderedDict\n",
    "from util import *\n",
    "from tqdm.notebook import tqdm\n",
    "from venn import venn, generate_petal_labels, draw_venn\n",
    "from statannot import add_stat_annotation\n",
    "from scipy.stats.mstats import ttest_rel, ttest_ind\n",
    "\n",
    "mhcfovea_train_file = '' # train_hit\n",
    "netmhcpan_dir = '' # download from http://www.cbs.dtu.dk/suppl/immunology/NAR_NetMHCpan_NetMHCIIpan/NetMHCpan_train.tar.gz\n",
    "mhcflurry_train_file = '' # dowload from https://data.mendeley.com/datasets/zx3kjzc3yx , Data S4"
   ]
  },
  {
   "cell_type": "markdown",
   "metadata": {},
   "source": [
    "## overlap of alleles"
   ]
  },
  {
   "cell_type": "code",
   "execution_count": null,
   "metadata": {
    "scrolled": false
   },
   "outputs": [],
   "source": [
    "allele_info_file = '../data/allele_info.csv'\n",
    "\n",
    "# load data\n",
    "allele_info = pd.read_csv(allele_info_file, index_col=0)\n",
    "\n",
    "# dict for venn\n",
    "keys = ['MHCfovea', 'NetMHCpan4.1', 'MHCflurry2.0', 'MixMHCpred2.1']\n",
    "allele_set_dict = OrderedDict({k: set(allele_info[allele_info[k]==True].index) for k in keys})\n",
    "\n",
    "# venn plot\n",
    "fig, ax = plt.subplots(1, 1, figsize=(4.5, 4.5), dpi=600)\n",
    "venn(allele_set_dict, ax=ax, fontsize=8)\n",
    "ax.set_title('Allele number')\n",
    "fig.tight_layout()"
   ]
  },
  {
   "cell_type": "markdown",
   "metadata": {},
   "source": [
    "## peptide count"
   ]
  },
  {
   "cell_type": "code",
   "execution_count": null,
   "metadata": {},
   "outputs": [],
   "source": [
    "count_dict = dict()\n",
    "\n",
    "# mhcfovea\n",
    "mhcfovea_train_df = pd.read_csv(mhcfovea_train_file, index_col=0)\n",
    "\n",
    "## count\n",
    "count_dict['MHCfovea'] = dict()\n",
    "allele_num = len(mhcfovea_train_df['mhc'].unique())\n",
    "positive_num = mhcfovea_train_df[mhcfovea_train_df['source'].isin(['MS', 'assay'])].shape[0]\n",
    "negative_num = 0\n",
    "count_dict['MHCfovea'] = OrderedDict({'#MHC': allele_num, '#Pos': positive_num, '#Neg': negative_num})\n",
    "\n",
    "\n",
    "# NetMHCpan4.1\n",
    "netmhcpan_train_df = pd.DataFrame()\n",
    "## ba\n",
    "for i in range(5):\n",
    "    temp = pd.read_csv('{}/c00{}_ba'.format(netmhcpan_dir, i), sep='\\s+', names=['sequence', 'score', 'mhc'])\n",
    "    temp['source'] = 'ba'\n",
    "    netmhcpan_train_df = pd.concat([netmhcpan_train_df, temp], axis=0, ignore_index=True)\n",
    "## el\n",
    "for i in range(5):\n",
    "    temp = pd.read_csv('{}/c00{}_el'.format(netmhcpan_dir, i), sep='\\s+', names=['sequence', 'score', 'mhc'])\n",
    "    temp['source'] = 'el'\n",
    "    netmhcpan_train_df = pd.concat([netmhcpan_train_df, temp], axis=0, ignore_index=True)\n",
    "\n",
    "## remove non-human\n",
    "non_human_allele = ['BoLA-', 'Eqca-', 'Gogo-', 'H-2-', 'Mamu-', 'Patr-', 'SLA-', 'DLA-']\n",
    "non_human_cell = ['A10', 'A11-A11', 'A12-A15', 'A14', 'A15-A15', 'A18', 'A19-A19', 'A20-A20', 'EBL']\n",
    "netmhcpan_train_df = netmhcpan_train_df[~netmhcpan_train_df['mhc'].isin(non_human_cell)]\n",
    "for s in non_human_allele:\n",
    "    netmhcpan_train_df = netmhcpan_train_df[~netmhcpan_train_df['mhc'].str.contains(s)]\n",
    "    \n",
    "## count\n",
    "allele_num = len(netmhcpan_train_df[netmhcpan_train_df['mhc'].str.contains('HLA-')]['mhc'].unique())\n",
    "positive_num = netmhcpan_train_df[(netmhcpan_train_df['source']=='ba') | ((netmhcpan_train_df['source']=='el') & (netmhcpan_train_df['score']==1))].shape[0]\n",
    "negative_num = netmhcpan_train_df.shape[0] - positive_num\n",
    "count_dict['NetMHCpan4.1'] = OrderedDict({'#MHC': allele_num, '#Pos': positive_num, '#Neg': negative_num})\n",
    "\n",
    "\n",
    "# MHCflurry2.0\n",
    "mhcflurry_train_df = pd.read_csv(mhcflurry_train_file)\n",
    "mhcflurry_train_df = mhcflurry_train_df[mhcflurry_train_df['allele'].str.contains('HLA-')]\n",
    "mhcflurry_train_df['allele'] = mhcflurry_train_df['allele'].apply(lambda x: x.split('-')[1])\n",
    "allele_num = len(mhcflurry_train_df['allele'].unique())\n",
    "positive_num = mhcflurry_train_df.shape[0]\n",
    "negative_num = mhcflurry_train_df[mhcflurry_train_df['measurement_kind']=='mass_spec'].shape[0] * 99 # 99n\n",
    "count_dict['MHCflurry2.0'] = OrderedDict({'#MHC': allele_num, '#Pos': positive_num, '#Neg': negative_num})\n",
    "\n",
    "\n",
    "# print count\n",
    "for tool in count_dict.keys():\n",
    "    for tag in count_dict[tool].keys():\n",
    "        print('{} of {}: {}'.format(tag, tool, count_dict[tool][tag]))"
   ]
  },
  {
   "cell_type": "markdown",
   "metadata": {},
   "source": [
    "## overlap of peptides"
   ]
  },
  {
   "cell_type": "code",
   "execution_count": null,
   "metadata": {},
   "outputs": [],
   "source": [
    "# get unique pair\n",
    "mhcfovea_train_set = set(mhcfovea_train_df.groupby(['mhc', 'sequence']).groups.keys())\n",
    "\n",
    "netmhcpan_train_df = netmhcpan_train_df[~((netmhcpan_train_df['source']=='el') & (netmhcpan_train_df['score']==0))]\n",
    "netmhcpan_train_df = netmhcpan_train_df[netmhcpan_train_df['mhc'].str.contains('HLA')]\n",
    "netmhcpan_train_df['mhc'] = netmhcpan_train_df['mhc'].apply(lambda x: x.split('-')[1])\n",
    "netmhcpan_train_df['mhc'] = netmhcpan_train_df['mhc'].apply(lambda x: x[0] + '*' + x[1:])\n",
    "netmhcpan_pair_set = set(netmhcpan_train_df.groupby(['mhc', 'sequence']).groups.keys())\n",
    "\n",
    "mhcflurry_pair_set = set(mhcflurry_train_df.groupby(['allele', 'peptide']).groups.keys())\n",
    "\n",
    "# venn plot\n",
    "venn_dict = OrderedDict({\n",
    "    'MHCfovea': mhcfovea_train_set,\n",
    "    'NetMHCpan4.1': netmhcpan_pair_set,\n",
    "    'MHCflurry2.0': mhcflurry_pair_set\n",
    "})\n",
    "\n",
    "fig, ax = plt.subplots(1, 1, figsize=(4.5, 4.5), dpi=600)\n",
    "venn(venn_dict, ax=ax, fontsize=8)\n",
    "ax.set_title('Peptide number')\n",
    "fig.tight_layout()"
   ]
  }
 ],
 "metadata": {
  "kernelspec": {
   "display_name": "Python 3",
   "language": "python",
   "name": "python3"
  },
  "language_info": {
   "codemirror_mode": {
    "name": "ipython",
    "version": 3
   },
   "file_extension": ".py",
   "mimetype": "text/x-python",
   "name": "python",
   "nbconvert_exporter": "python",
   "pygments_lexer": "ipython3",
   "version": "3.6.9"
  }
 },
 "nbformat": 4,
 "nbformat_minor": 4
}
