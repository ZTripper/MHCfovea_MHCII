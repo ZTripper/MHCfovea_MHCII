{
 "cells": [
  {
   "cell_type": "code",
   "execution_count": null,
   "metadata": {},
   "outputs": [],
   "source": [
    "import os, sys, re, json, random, importlib\n",
    "import numpy as np\n",
    "import pandas as pd\n",
    "from collections import OrderedDict\n",
    "from tqdm import tqdm\n",
    "import torch\n",
    "import matplotlib\n",
    "import matplotlib.pyplot as plt\n",
    "import seaborn as sns\n",
    "import logomaker as lm\n",
    "from venn import venn\n",
    "from venn import generate_petal_labels, draw_venn\n",
    "from scipy.cluster import hierarchy\n",
    "from util import *\n",
    "from CAMInterp import CAMInterp\n",
    "import warnings\n",
    "warnings.filterwarnings('ignore')"
   ]
  },
  {
   "cell_type": "code",
   "execution_count": null,
   "metadata": {},
   "outputs": [],
   "source": [
    "# arguments\n",
    "mhc_seq_filename = '../data/MHCI/MHCI_res182_seq.json'\n",
    "mask_dirname = ['../cam_result/res182_decoy5_CNN_1_1_train_hit/decoy_%d/mhc_2/ScoreCAM/'%i for i in range(1, 87, 5)]\n",
    "df_filename = '../prediction/train_hit/res182_decoy5_CNN_1_1_18/prediction.csv'\n",
    "output_dir = '../analysis/CAMInterp/res182_decoy5_CNN_1_1'\n",
    "if not os.path.isdir(output_dir):\n",
    "    os.mkdir(output_dir)\n",
    "pred_basename = 'score'\n",
    "pred_threshold = 0.9"
   ]
  },
  {
   "cell_type": "code",
   "execution_count": null,
   "metadata": {},
   "outputs": [],
   "source": [
    "# interpretation class\n",
    "interp = CAMInterp(mhc_seq_filename, mask_dirname, df_filename, output_dir,\n",
    "                   pred_basename=pred_basename, pred_threshold=pred_threshold)"
   ]
  },
  {
   "cell_type": "code",
   "execution_count": null,
   "metadata": {
    "scrolled": false
   },
   "outputs": [],
   "source": [
    "# Residue analysis\n",
    "cam_threshold = 0.4\n",
    "importance_threshold = 0.4\n",
    "interp.ResidueAnalysis(cam_threshold, importance_threshold)"
   ]
  },
  {
   "cell_type": "code",
   "execution_count": null,
   "metadata": {
    "scrolled": false
   },
   "outputs": [],
   "source": [
    "# Cluster analysis\n",
    "\n",
    "method = 'average'\n",
    "metric = 'euclidean'\n",
    "interp.ClusterAnalysis(method, metric, plot_each_mhc=False)"
   ]
  },
  {
   "cell_type": "markdown",
   "metadata": {},
   "source": [
    "## Pairwise distance"
   ]
  },
  {
   "cell_type": "code",
   "execution_count": null,
   "metadata": {},
   "outputs": [],
   "source": [
    "df = pd.read_csv('../data/raw/dataframe/train_hit.csv', index_col=0)\n",
    "alleles = df['mhc'].unique()\n",
    "motif_dict = dict()\n",
    "\n",
    "for allele in alleles:\n",
    "    seqs = df.loc[(df['mhc']==allele) & (df['bind']==1), 'sequence']\n",
    "    if len(seqs) >= interp.min_sample_num:\n",
    "        seqs = seqs.apply(lambda x: x[:interp.submotif_len] + x[-interp.submotif_len:])\n",
    "        temp_df = pd.DataFrame(columns=list(interp.aa_str))\n",
    "        seqlogo_df = lm.alignment_to_matrix(sequences=seqs, to_type=\"information\", characters_to_ignore=\"XU\")\n",
    "        temp_df = pd.concat([temp_df, seqlogo_df], axis=0)\n",
    "        temp_df = temp_df.fillna(0.0)\n",
    "        motif_dict[allele] = temp_df.to_numpy()"
   ]
  },
  {
   "cell_type": "code",
   "execution_count": null,
   "metadata": {},
   "outputs": [],
   "source": [
    "# motif pairwise distance\n",
    "\n",
    "from scipy.spatial.distance import pdist, squareform\n",
    "\n",
    "threshold = 0\n",
    "\n",
    "motif_df = pd.DataFrame()\n",
    "for k, v in motif_dict.items():\n",
    "    arr = v.copy()\n",
    "    arr[arr < threshold] = 0\n",
    "    motif_df[k] = arr.flatten()\n",
    "\n",
    "motif_df = motif_df.loc[(motif_df!=0).any(axis=1), :]\n",
    "motif_dist = pdist(motif_df.T, metric='cosine')\n",
    "motif_dist = squareform(motif_dist)\n",
    "motif_dist_df = pd.DataFrame(motif_dist, columns=motif_df.columns, index=motif_df.columns)"
   ]
  },
  {
   "cell_type": "code",
   "execution_count": null,
   "metadata": {
    "scrolled": true
   },
   "outputs": [],
   "source": [
    "for hla in ['A', 'B', 'C']:\n",
    "    select_col = [i for i in motif_dist_df.columns if hla in i]\n",
    "    temp_df = motif_dist_df.loc[select_col, select_col]\n",
    "    g = sns.clustermap(temp_df,\n",
    "                       method='average',\n",
    "                       metric='cosine',\n",
    "                       cbar_pos=None,\n",
    "                       xticklabels=False,\n",
    "                       yticklabels=True,\n",
    "                       dendrogram_ratio=0.1,\n",
    "                       figsize=(5, 5))\n",
    "    _ = g.ax_heatmap.set_yticklabels(g.ax_heatmap.get_ymajorticklabels(), fontsize = 5)\n",
    "    plt.savefig('%s/Pdist_%s'%(interp.output_dir, hla), bbox_inches='tight', dpi=interp.dpi)\n",
    "    allele_order = g.dendrogram_row.reordered_ind\n",
    "    allele_order = [temp_df.columns[i] for i in allele_order]\n",
    "    interp._motif_plot(allele_order, motif_dict, figfile='%s/PdistMotif_%s'%(interp.output_dir, hla))"
   ]
  },
  {
   "cell_type": "markdown",
   "metadata": {},
   "source": [
    "## Random sequence"
   ]
  },
  {
   "cell_type": "code",
   "execution_count": null,
   "metadata": {},
   "outputs": [],
   "source": [
    "class Mutation():\n",
    "    def __init__(self, mhc_seq_len, sub_motif_len,\n",
    "                 mhc_seq_file, df_file, dataset_file, batch_size,\n",
    "                 model_file, model_state_file, input_dim, cuda, data_num=None):\n",
    "        \n",
    "        self.mhc_seq_len = mhc_seq_len\n",
    "        self.sub_motif_len = sub_motif_len\n",
    "        \n",
    "        # Data\n",
    "        self.mhc_seq_dict = json.load(open(mhc_seq_file, 'r'))\n",
    "        self.df = pd.read_csv(df_file, index_col=0)\n",
    "        self.dataset = torch.load(dataset_file)\n",
    "        if data_num:\n",
    "            self.df = self.df.sample(n=data_num)\n",
    "            idx = self.df.index\n",
    "            self.dataset = [self.dataset[i] for i in idx]\n",
    "            self.df = self.df.reset_index(drop=True)\n",
    "        self.batch_size = batch_size\n",
    "        self.dataloader = torch.utils.data.DataLoader(self.dataset, batch_size=self.batch_size, shuffle=False)\n",
    "        \n",
    "        # Model\n",
    "        if cuda:\n",
    "            self.device = torch.device('cuda')\n",
    "        else:\n",
    "            self.device = torch.device('cpu')\n",
    "        model_file = '.'.join(model_file.split('.')[0].split('/'))\n",
    "        module = importlib.import_module(model_file)\n",
    "        self.model = module.CombineModel(module.MHCModel(input_dim), module.EpitopeModel(input_dim))\n",
    "        model_state_dict = torch.load(model_state_file, map_location=self.device)\n",
    "        self.model.load_state_dict(model_state_dict['model_state_dict'])\n",
    "        self.model.to(self.device)\n",
    "        \n",
    "        \n",
    "    def Mutate2Seqlogo(self, allele, mutate, threshold, motif_side):\n",
    "        seq = self.mhc_seq_dict[allele]\n",
    "        if mutate:\n",
    "            seq = self._mutate_seq(seq, mutate)\n",
    "        encode = OneHotEncoder(seq, self.mhc_seq_len, False)\n",
    "        preds = self._predict(encode)\n",
    "        idx = np.where(preds > threshold)[0]\n",
    "        #print('Allele: %s; Mutate: %s; Positive num: %d'%(allele, mutate, len(idx)))\n",
    "        seqlogo_df = self._get_seqlogo_df(idx, motif_side)\n",
    "        return seqlogo_df\n",
    "    \n",
    "    \n",
    "    def MutateAllResidues(self, allele, pred_threshold, mhc_pos_list, motif_side, motif_pos, figfile=None):\n",
    "        information_dict = dict()\n",
    "        fig, axes = plt.subplots(len(mhc_pos_list)+1, figsize=(5, (len(mhc_pos_list)+1)*2))\n",
    "        \n",
    "        # original\n",
    "        mutate = None\n",
    "        seqlogo_df = self.Mutate2Seqlogo(allele, mutate, pred_threshold, motif_side)\n",
    "        logo = lm.Logo(seqlogo_df, color_scheme='skylign_protein', ax=axes[0])\n",
    "        information_dict['origin'] = seqlogo_df.iloc[motif_pos].to_dict()\n",
    "        \n",
    "        # mutate\n",
    "        for i in range(len(mhc_pos_list)):\n",
    "            mutate = (mhc_pos_list[i], '.')\n",
    "            seqlogo_df = self.Mutate2Seqlogo(allele, mutate, pred_threshold, motif_side)\n",
    "            logo = lm.Logo(seqlogo_df, color_scheme='skylign_protein', ax=axes[i+1])\n",
    "            information_dict['mutate_%d'%mhc_pos_list[i]] = seqlogo_df.iloc[motif_pos].to_dict()\n",
    "        \n",
    "        if figfile:\n",
    "            fig.savefig(figfile)\n",
    "        \n",
    "        return information_dict\n",
    "    \n",
    "    \n",
    "    def MutationHeatmap(self, alleles, pred_threshold, mhc_pos_list, motif_side):\n",
    "        if type(mhc_pos_list[0]) == list:\n",
    "            pdist_df = pd.DataFrame(columns=range(len(mhc_pos_list)), index=alleles)\n",
    "        else:\n",
    "            pdist_df = pd.DataFrame(columns=mhc_pos_list, index=alleles)\n",
    "        \n",
    "        for allele in alleles:\n",
    "            information_df = pd.DataFrame()\n",
    "            \n",
    "            # original\n",
    "            mutate = None\n",
    "            seqlogo_df = self.Mutate2Seqlogo(allele, mutate, pred_threshold, motif_side)\n",
    "            information_df['origin'] = seqlogo_df.to_numpy().flatten()\n",
    "            \n",
    "            # mutate\n",
    "            for i in range(len(mhc_pos_list)):\n",
    "                if type(mhc_pos_list[i]) == list:\n",
    "                    mutates = [(mhc_pos_list[i][j], '.') for j in range(len(mhc_pos_list[i]))]\n",
    "                else:\n",
    "                    mutates = (mhc_pos_list[i], '.')\n",
    "                seqlogo_df = self.Mutate2Seqlogo(allele, mutates, pred_threshold, motif_side)\n",
    "                information_df[i] = seqlogo_df.to_numpy().flatten()\n",
    "            \n",
    "            # pairwise distance\n",
    "            information_df = information_df.T.to_numpy()\n",
    "            pdist = metrics.pairwise_distances([information_df[0]], information_df[1:])\n",
    "            pdist_df.loc[allele] = pdist[0]\n",
    "            \n",
    "            print('%s Complete'%allele)\n",
    "        \n",
    "        return pdist_df.astype(float)\n",
    "        \n",
    "    \n",
    "    def _predict(self, mhc_encode):\n",
    "        self.model.eval()\n",
    "        for j, (x, y) in enumerate(self.dataloader):\n",
    "            with torch.no_grad():\n",
    "                num = x.shape[0]\n",
    "                epitope_encode = x.to(self.device).float()\n",
    "                mhc_encode_tile = torch.FloatTensor(np.tile(mhc_encode, (num, 1, 1))).to(self.device)\n",
    "                pred = self.model(mhc_encode_tile, epitope_encode).to('cpu')\n",
    "                pred = pred.view(-1,).numpy()\n",
    "                if j==0:\n",
    "                    preds = pred\n",
    "                else:\n",
    "                    preds = np.append(preds, pred, axis=0)\n",
    "        return preds\n",
    "    \n",
    "    \n",
    "    def _mutate_seq(self, seq, mutates): # mutate = (position, amino acid)\n",
    "        seq_list = list(seq)\n",
    "        for pos, mut in mutates:\n",
    "            seq_list[pos] = mut\n",
    "        return ''.join(seq_list)\n",
    "    \n",
    "    \n",
    "    def _get_seqlogo_df(self, idx, side='both'):\n",
    "        seqs = self.df.iloc[idx]['sequence']\n",
    "        if side == 'N':\n",
    "            seqs = seqs.apply(lambda x: x[:self.sub_motif_len])\n",
    "        elif side == 'C':\n",
    "            seqs = seqs.apply(lambda x: x[-self.sub_motif_len:])\n",
    "        else:\n",
    "            seqs = seqs.apply(lambda x: x[:self.sub_motif_len] + x[-self.sub_motif_len:])\n",
    "        seqlogo_df = lm.alignment_to_matrix(sequences=seqs, to_type='information', characters_to_ignore=\"XU\")\n",
    "        return seqlogo_df"
   ]
  },
  {
   "cell_type": "code",
   "execution_count": null,
   "metadata": {},
   "outputs": [],
   "source": [
    "mhc_seq_len = 182\n",
    "sub_motif_len = 4\n",
    "mhc_seq_file = 'data/MHCI/res182_seq.json'\n",
    "df_file = 'data/random_peptide/random.csv'\n",
    "dataset_file = 'data/random_peptide/random_onehot.pt'\n",
    "batch_size = 2048\n",
    "model_file = 'gitlab/kohan/model/res182_CNN_8.py'\n",
    "model_state_file = 'result/single/res182_clf_downsampling_onehot_CNN_81_1.20201005212128/model/model_best.tar'\n",
    "input_dim = 21\n",
    "cuda = True\n",
    "\n",
    "mutation = Mutation(mhc_seq_len, sub_motif_len, mhc_seq_file,\n",
    "                    df_file, dataset_file, batch_size,\n",
    "                    model_file, model_state_file, input_dim, cuda, data_num=100000)"
   ]
  },
  {
   "cell_type": "code",
   "execution_count": null,
   "metadata": {},
   "outputs": [],
   "source": [
    "alleles = list()\n",
    "for g in groups:\n",
    "    alleles += g\n",
    "\n",
    "mutate_range_list = [(7,13), (40,46), (60,70), (70,82), (93,100),\n",
    "                     (111,117), (140,147), (150,158), (161,167), (176, 182)]\n",
    "mutate_list = [list(range(i[0],i[1])) for i in mutate_range_list]\n",
    "\n",
    "pred_threshold = 0.9\n",
    "\n",
    "motif_side = 'C'\n",
    "\n",
    "pdist_df = mutation.MutationHeatmap(alleles, pred_threshold, mutate_list, motif_side)"
   ]
  },
  {
   "cell_type": "code",
   "execution_count": null,
   "metadata": {},
   "outputs": [],
   "source": [
    "alleles = list()\n",
    "for g in groups:\n",
    "    alleles += g\n",
    "\n",
    "pred_threshold = 0.9\n",
    "\n",
    "mhc_pos_list = sorted(list(position_set))\n",
    "\n",
    "motif_side = 'C'\n",
    "\n",
    "pdist_df = mutation.MutationHeatmap(alleles, pred_threshold, mhc_pos_list, motif_side)"
   ]
  },
  {
   "cell_type": "code",
   "execution_count": null,
   "metadata": {},
   "outputs": [],
   "source": [
    "groups"
   ]
  },
  {
   "cell_type": "code",
   "execution_count": null,
   "metadata": {},
   "outputs": [],
   "source": [
    "plt.figure(figsize=(10,10))\n",
    "sns.heatmap(pdist_df.astype(float))"
   ]
  },
  {
   "cell_type": "code",
   "execution_count": null,
   "metadata": {},
   "outputs": [],
   "source": [
    "sns.heatmap(pdist_df.astype(float))"
   ]
  },
  {
   "cell_type": "code",
   "execution_count": null,
   "metadata": {},
   "outputs": [],
   "source": [
    "groups"
   ]
  },
  {
   "cell_type": "code",
   "execution_count": null,
   "metadata": {
    "scrolled": false
   },
   "outputs": [],
   "source": [
    "pred_threshold = 0.8\n",
    "motif_side = 'C'\n",
    "motif_pos = -1\n",
    "\n",
    "figdir = 'fig'\n",
    "\n",
    "allele = 'B*15:02'\n",
    "mutate_positions = [8, 10, 11, 31, 44, 66, 93, 94, 96, 102, 113, 115, 162]\n",
    "\n",
    "allele_aa_pairs={\n",
    "    allele: \"Y\"\n",
    "}\n",
    "\n",
    "name = allele[0] + allele[2:4] + allele[5:7]\n",
    "figfile = '%s/%s.png'%(figdir, name)\n",
    "information_dict = mutation.MutateAllResidues(allele, pred_threshold, mutate_positions, motif_side, motif_pos, figfile)\n",
    "information_df = pd.DataFrame(information_dict)\n",
    "fig = plt.figure(figsize=(10,10))\n",
    "sns.barplot(x=information_df.columns, y=information_df.loc[allele_aa_pairs[allele]])\n",
    "_ = plt.xticks(rotation=90)\n",
    "fig.savefig('%s/%s_information.png'%(figdir, name))\n",
    "print(\"%s Complete\"%allele)"
   ]
  },
  {
   "cell_type": "code",
   "execution_count": null,
   "metadata": {},
   "outputs": [],
   "source": [
    "allele_aa_pairs={\n",
    "    allele: \"L\"\n",
    "}\n",
    "fig = plt.figure(figsize=(10,10))\n",
    "sns.barplot(x=information_df.columns, y=information_df.loc[allele_aa_pairs[allele]])\n",
    "_ = plt.xticks(rotation=90)"
   ]
  },
  {
   "cell_type": "code",
   "execution_count": null,
   "metadata": {},
   "outputs": [],
   "source": [
    "allele_mutate_pairs = {\n",
    "    \"B*07:02\": [8, 23, 44, 62, 66, 70, 96, 102, 112],\n",
    "    \"B*55:01\": [8, 23, 44, 62, 66, 70, 96, 102, 112],\n",
    "    \"B*40:01\": [8, 23, 44, 62, 66],\n",
    "    \"B*18:01\": [8, 23, 44, 62, 66],\n",
    "    \"B*15:10\": [8, 10, 23, 62, 66, 76, 112, 115],\n",
    "    \"B*38:01\": [8, 10, 23, 62, 66, 76, 112, 115],\n",
    "    \"B*58:01\": [23, 64, 65, 66, 76, 79, 80, 81, 82, 162],\n",
    "    \"B*15:17\": [23, 64, 65, 66, 76, 79, 80, 81, 82, 162],\n",
    "    \"B*13:01\": [23, 44, 45, 62, 66, 76, 79, 80, 81, 82, 112, 115, 144, 162],\n",
    "    \"B*15:01\": [23, 44, 45, 62, 66, 76, 79, 80, 81, 82, 112, 115, 144, 162]\n",
    "}\n",
    "\n",
    "allele_aa_pairs = {\n",
    "    \"B*07:02\": 'P',\n",
    "    \"B*55:01\": 'P',\n",
    "    \"B*40:01\": 'E',\n",
    "    \"B*18:01\": 'E',\n",
    "    \"B*15:10\": 'H',\n",
    "    \"B*38:01\": 'H',\n",
    "    \"B*58:01\": 'S',\n",
    "    \"B*15:17\": 'S',\n",
    "    \"B*13:01\": 'Q',\n",
    "    \"B*15:01\": 'Q'\n",
    "}\n",
    "\n",
    "pred_threshold = 0.9\n",
    "motif_side = 'N'\n",
    "motif_pos = 1\n",
    "\n",
    "figdir = 'fig'\n",
    "\n",
    "for allele, mutate_positions in allele_mutate_pairs.items():\n",
    "    name = allele[0] + allele[2:4] + allele[5:7]\n",
    "    figfile = '%s/%s.png'%(figdir, name)\n",
    "    information_dict = mutation.MutateAllResidues(allele, pred_threshold, mutate_positions, motif_side, motif_pos, figfile)\n",
    "    information_df = pd.DataFrame(information_dict)\n",
    "    fig = plt.figure(figsize=(10,10))\n",
    "    sns.barplot(x=information_df.columns, y=information_df.loc[allele_aa_pairs[allele]])\n",
    "    _ = plt.xticks(rotation=90)\n",
    "    fig.savefig('%s/%s_information.png'%(figdir, name))\n",
    "    print(\"%s Complete\"%allele)"
   ]
  }
 ],
 "metadata": {
  "kernelspec": {
   "display_name": "Python 3",
   "language": "python",
   "name": "python3"
  },
  "language_info": {
   "codemirror_mode": {
    "name": "ipython",
    "version": 3
   },
   "file_extension": ".py",
   "mimetype": "text/x-python",
   "name": "python",
   "nbconvert_exporter": "python",
   "pygments_lexer": "ipython3",
   "version": "3.6.9"
  }
 },
 "nbformat": 4,
 "nbformat_minor": 4
}
