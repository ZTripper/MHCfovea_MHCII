{
 "cells": [
  {
   "cell_type": "code",
   "execution_count": null,
   "metadata": {},
   "outputs": [],
   "source": [
    "import os, sys, re, json, random\n",
    "import numpy as np\n",
    "import pandas as pd\n",
    "from collections import OrderedDict\n",
    "import matplotlib.pyplot as plt\n",
    "import seaborn as sns\n",
    "import logomaker as lm\n",
    "from MHCInterp import MHCInterp\n",
    "import warnings\n",
    "warnings.filterwarnings('ignore')"
   ]
  },
  {
   "cell_type": "markdown",
   "metadata": {},
   "source": [
    "## Loading Data"
   ]
  },
  {
   "cell_type": "code",
   "execution_count": null,
   "metadata": {},
   "outputs": [],
   "source": [
    "mhc_seq_dict = json.load(open('../data/MHCI/MHCI_res182_seq.json', 'r'))\n",
    "\n",
    "dirname = '../prediction/pan_allele/output/'\n",
    "mhc_motif_dict = dict()\n",
    "for sub_dir in os.listdir(dirname):\n",
    "    d = np.load('%s/%s/motif.npy'%(dirname, sub_dir), allow_pickle=True)[()]\n",
    "    mhc_motif_dict = {**mhc_motif_dict, **d}\n",
    "    \n",
    "submotif_len = 4\n",
    "\n",
    "position_dict = json.load(open('../analysis/CAMInterp/res182_decoy5_CNN_1_1/ResidueSelection.json', 'r'))"
   ]
  },
  {
   "cell_type": "markdown",
   "metadata": {},
   "source": [
    "## Clustering"
   ]
  },
  {
   "cell_type": "code",
   "execution_count": null,
   "metadata": {},
   "outputs": [],
   "source": [
    "clustering_kwargs = {'DBSCAN_eps': 3,\n",
    "                     'DBSCAN_metric': 'euclidean',\n",
    "                     'DBSCAN_min_samples': 5,\n",
    "                     'HDBSCAN_min_cluster_size': 100,\n",
    "                     'HDBSCAN_min_samples': 1,\n",
    "                     'Agglomerative_affinity': 'cosine',\n",
    "                     'Agglomerative_linkage': 'average',\n",
    "                     'Agglomerative_distance_threshold': None,\n",
    "                     'Agglomerative_n_clusters': 6}\n",
    "\n",
    "reduction_kwargs = {'UMAP_n_neighbors': 50,\n",
    "                    'UMAP_min_dist': 0.1,\n",
    "                    'TSNE_perplexity': 80,\n",
    "                    'TSNE_n_iter': 50000}"
   ]
  },
  {
   "cell_type": "markdown",
   "metadata": {},
   "source": [
    "### Pre-pdist + Agglomerative Clustering"
   ]
  },
  {
   "cell_type": "code",
   "execution_count": null,
   "metadata": {},
   "outputs": [],
   "source": [
    "output_dir = '../analysis/MHCInterp/res182_decoy5_CNN_1_1/'\n",
    "if not os.path.isdir(output_dir):\n",
    "    os.mkdir(output_dir)\n",
    "\n",
    "interp = MHCInterp(mhc_seq_dict, mhc_motif_dict, submotif_len, position_dict, output_dir)"
   ]
  },
  {
   "cell_type": "code",
   "execution_count": null,
   "metadata": {},
   "outputs": [],
   "source": [
    "noise_threshold = 0\n",
    "\n",
    "clustering_method = 'Agglomerative'\n",
    "clustering_kwargs = {'Agglomerative_affinity': 'cosine',\n",
    "                     'Agglomerative_linkage': 'complete',\n",
    "                     'Agglomerative_distance_threshold': None,\n",
    "                     'Agglomerative_n_clusters': None}\n",
    "\n",
    "reduction_method = None\n",
    "reduction_kwargs = {}\n",
    "\n",
    "pre_pdist = True\n",
    "metric = 'cosine'\n",
    "method = 'complete'\n",
    "\n",
    "highlight=False\n",
    "load_file = False\n",
    "turn_off_label = True"
   ]
  },
  {
   "cell_type": "code",
   "execution_count": null,
   "metadata": {},
   "outputs": [],
   "source": [
    "args = [['A','N',8],\n",
    "        ['A','C',5],\n",
    "        ['B','N',7],\n",
    "        ['B','C',5],\n",
    "        ['C','N',5],\n",
    "        ['C','C',3]]\n",
    "\n",
    "for hla, side, n_clusters in args:\n",
    "    clustering_kwargs['Agglomerative_n_clusters'] = n_clusters\n",
    "    interp.Clustering(hla, side, noise_threshold,\n",
    "                      clustering_method, clustering_kwargs,\n",
    "                      reduction_method=reduction_method, reduction_kwargs=reduction_kwargs,\n",
    "                      pre_pdist=pre_pdist, metric=metric, method=method,\n",
    "                      highlight=highlight, load_file=load_file, turn_off_label=turn_off_label)"
   ]
  },
  {
   "cell_type": "markdown",
   "metadata": {},
   "source": [
    "### tSNE + DBSCAN"
   ]
  },
  {
   "cell_type": "code",
   "execution_count": null,
   "metadata": {},
   "outputs": [],
   "source": [
    "output_dir = '../tmp/'\n",
    "if not os.path.isdir(output_dir):\n",
    "    os.mkdir(output_dir)\n",
    "\n",
    "interp = MHCInterp(mhc_seq_dict, mhc_motif_dict, submotif_len, position_dict, output_dir)"
   ]
  },
  {
   "cell_type": "code",
   "execution_count": null,
   "metadata": {},
   "outputs": [],
   "source": [
    "noise_threshold = 0.2\n",
    "\n",
    "clustering_method = 'DBSCAN'\n",
    "clustering_kwargs = {'DBSCAN_eps': 0,\n",
    "                     'DBSCAN_metric': 'euclidean',\n",
    "                     'DBSCAN_min_samples': 5}\n",
    "\n",
    "reduction_method = 'tSNE'\n",
    "reduction_kwargs = {'TSNE_perplexity': 80,\n",
    "                    'TSNE_n_iter': 50000}\n",
    "\n",
    "pre_pdist = None\n",
    "metric = 'cosine'\n",
    "method = 'average'\n",
    "\n",
    "load_file = False\n",
    "turn_off_label = True"
   ]
  },
  {
   "cell_type": "code",
   "execution_count": null,
   "metadata": {},
   "outputs": [],
   "source": [
    "args = [['A','N',4.5],\n",
    "        ['A','C',3],\n",
    "        ['B','N',3],\n",
    "        ['B','C',3],\n",
    "        ['C','N',2.5],\n",
    "        ['C','B',2.5]]\n",
    "\n",
    "for hla, side, eps in args:\n",
    "    clustering_kwargs['DBSCAN_eps'] = eps\n",
    "    interp.Clustering(hla, side, noise_threshold,\n",
    "                      clustering_method, clustering_kwargs,\n",
    "                      reduction_method=reduction_method, reduction_kwargs=reduction_kwargs,\n",
    "                      pre_pdist=pre_pdist, metric=metric, method=method,\n",
    "                      highlight=highlight, load_file=load_file, turn_off_label=turn_off_label)"
   ]
  },
  {
   "cell_type": "markdown",
   "metadata": {},
   "source": [
    "## Grouping Counts"
   ]
  },
  {
   "cell_type": "code",
   "execution_count": null,
   "metadata": {},
   "outputs": [],
   "source": [
    "for hla in ['A','B','C']:\n",
    "    interp.AlleleGrouping(hla)"
   ]
  },
  {
   "cell_type": "markdown",
   "metadata": {},
   "source": [
    "## Analysis"
   ]
  },
  {
   "cell_type": "code",
   "execution_count": null,
   "metadata": {},
   "outputs": [],
   "source": [
    "hla = 'B'\n",
    "middle_pos = 74\n",
    "\n",
    "nside_args = [[1, '#ccefff'], [0, '#ffe6e6']]\n",
    "cside_args = [[3, '#ffffcc'], [0, '#ccffdc']]\n",
    "n_pos = [i for i in position_dict['selected'] if i <= middle_pos]\n",
    "c_pos = [i for i in position_dict['selected'] if i > middle_pos ]\n",
    "\n",
    "turn_off_label = True\n",
    "\n",
    "for n_group, n_color in nside_args:\n",
    "    highlight_pos_dict = {n_color: n_pos}\n",
    "    interp.Analysis(hla, n_group, None, side='N',\n",
    "                    turn_off_label=turn_off_label, highlight_pos_dict=highlight_pos_dict)\n",
    "\n",
    "for c_group, c_color in cside_args:\n",
    "    highlight_pos_dict = {c_color: c_pos}\n",
    "    interp.Analysis(hla, None, c_group, side='C',\n",
    "                    turn_off_label=turn_off_label, highlight_pos_dict=highlight_pos_dict)\n",
    "\n",
    "for n_group, n_color in nside_args:\n",
    "    highlight_pos_dict = {n_color: n_pos}\n",
    "    for c_group, c_color in cside_args:\n",
    "        highlight_pos_dict[c_color] = c_pos\n",
    "        interp.Analysis(hla, n_group, c_group,\n",
    "                        turn_off_label=turn_off_label, highlight_pos_dict=highlight_pos_dict)\n"
   ]
  },
  {
   "cell_type": "markdown",
   "metadata": {},
   "source": [
    "## MHC-I sequence logo"
   ]
  },
  {
   "cell_type": "code",
   "execution_count": null,
   "metadata": {},
   "outputs": [],
   "source": [
    "output_dir = '../tmp/'\n",
    "if not os.path.isdir(output_dir):\n",
    "    os.mkdir(output_dir)\n",
    "\n",
    "interp = MHCInterp(mhc_seq_dict, mhc_motif_dict, submotif_len, position_dict, output_dir)"
   ]
  },
  {
   "cell_type": "code",
   "execution_count": null,
   "metadata": {},
   "outputs": [],
   "source": [
    "df = pd.read_csv('../data/raw/dataframe/train_hit.csv', index_col=0)\n",
    "alleles = list(df.mhc.unique())"
   ]
  },
  {
   "cell_type": "code",
   "execution_count": null,
   "metadata": {},
   "outputs": [],
   "source": [
    "seqlogo_dict = dict()\n",
    "seqlogo_dict['all'] = interp._mhc_seqlogo(alleles, list(range(182)))\n",
    "for hla in ['A', 'B', 'C']:\n",
    "    seqlogo_dict[hla] = interp._mhc_seqlogo([i for i in alleles if hla in i], list(range(182)))"
   ]
  },
  {
   "cell_type": "code",
   "execution_count": null,
   "metadata": {},
   "outputs": [],
   "source": [
    "fig, ax = plt.subplots(3, 1, figsize=(6, 3), dpi=interp.dpi)\n",
    "hla_list = ['A', 'B', 'C']\n",
    "ylim = 0.8\n",
    "\n",
    "for i in range(len(hla_list)):\n",
    "    temp_seqlogo = seqlogo_dict[hla_list[i]] - seqlogo_dict['all']\n",
    "    logo = lm.Logo(temp_seqlogo, color_scheme='skylign_protein', ax=ax[i])\n",
    "    ax[i].set_ylim(-ylim, ylim)\n",
    "    _ = ax[i].set_xticks([])\n",
    "    _ = ax[i].set_yticks([])\n",
    "    _ = ax[i].set_xticklabels([])\n",
    "    _ = ax[i].set_yticklabels([])\n",
    "    _ = ax[i].set_title(None)\n",
    "    \n",
    "fig.tight_layout()\n",
    "fig.savefig('%s/MHCseqlogo.png'%interp.output_dir)"
   ]
  }
 ],
 "metadata": {
  "kernelspec": {
   "display_name": "Python 3",
   "language": "python",
   "name": "python3"
  },
  "language_info": {
   "codemirror_mode": {
    "name": "ipython",
    "version": 3
   },
   "file_extension": ".py",
   "mimetype": "text/x-python",
   "name": "python",
   "nbconvert_exporter": "python",
   "pygments_lexer": "ipython3",
   "version": "3.6.9"
  }
 },
 "nbformat": 4,
 "nbformat_minor": 4
}
